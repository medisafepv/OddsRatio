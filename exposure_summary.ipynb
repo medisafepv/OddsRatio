{
 "cells": [
  {
   "cell_type": "markdown",
   "id": "02fad295-3933-4d23-b85a-988b76572c39",
   "metadata": {},
   "source": [
    "### 2x2 Contingency Table\n",
    "\n",
    "Prospective Randomized study "
   ]
  },
  {
   "cell_type": "markdown",
   "id": "71275ae2-2fdc-403f-8f40-50a32eaf1d01",
   "metadata": {},
   "source": [
    "![table1](table1.png)"
   ]
  },
  {
   "cell_type": "markdown",
   "id": "a4a6c2f2-d7ec-428d-9928-7f0bc1649fc7",
   "metadata": {},
   "source": [
    "#### Sample Odds Ratio \n",
    "\n",
    "$$\\hat{\\Theta} = \\frac{n_{11}n_{22}}{n_{12}n_{21}} = \\frac{(1)(379)}{(377)(1)} = 1.00531$$"
   ]
  },
  {
   "cell_type": "markdown",
   "id": "fc35e1a1-2864-4e8a-87b5-42385e5d2074",
   "metadata": {},
   "source": [
    "##### Interpretation\n",
    "\n",
    "The estimated odds of AE occuring (사례발생) for someone taking 온베브지 is 1.00531 times more likely of AE occuring for someone taking 아바스틴. Since $\\hat{\\Theta} \\approx 1$, there is no association between exposure group (drug) vs. outcome (AE occuring)."
   ]
  },
  {
   "cell_type": "markdown",
   "id": "0f0ea4c8-d5b4-4a81-8013-8949f74ca13b",
   "metadata": {},
   "source": [
    "#### Hypothesis Testing: Likelihood Ratio Test"
   ]
  },
  {
   "cell_type": "markdown",
   "id": "f6958b17-f144-428a-907c-dc3b5626f1e6",
   "metadata": {},
   "source": [
    "If $\\hat{\\Theta} \\gg 1$, then perform hypothesis test for statistical significance. "
   ]
  },
  {
   "cell_type": "markdown",
   "id": "4038ce2a-dee3-4580-936e-af4d27474cfe",
   "metadata": {},
   "source": [
    "데이터 및 변수 입력 cell:"
   ]
  },
  {
   "cell_type": "code",
   "execution_count": 8,
   "id": "5b6aa936-a443-4e8b-b625-b284c0c9d0b3",
   "metadata": {},
   "outputs": [
    {
     "data": {
      "text/html": [
       "<table class=\"dataframe\">\n",
       "<caption>A matrix: 2 × 2 of type dbl</caption>\n",
       "<thead>\n",
       "\t<tr><th></th><th scope=col>사례 발생</th><th scope=col>사례 미발생</th></tr>\n",
       "</thead>\n",
       "<tbody>\n",
       "\t<tr><th scope=row>온베브지</th><td>1</td><td>377</td></tr>\n",
       "\t<tr><th scope=row>아바스틴</th><td>1</td><td>379</td></tr>\n",
       "</tbody>\n",
       "</table>\n"
      ],
      "text/latex": [
       "A matrix: 2 × 2 of type dbl\n",
       "\\begin{tabular}{r|ll}\n",
       "  & 사례 발생 & 사례 미발생\\\\\n",
       "\\hline\n",
       "\t온베브지 & 1 & 377\\\\\n",
       "\t아바스틴 & 1 & 379\\\\\n",
       "\\end{tabular}\n"
      ],
      "text/markdown": [
       "\n",
       "A matrix: 2 × 2 of type dbl\n",
       "\n",
       "| <!--/--> | 사례 발생 | 사례 미발생 |\n",
       "|---|---|---|\n",
       "| 온베브지 | 1 | 377 |\n",
       "| 아바스틴 | 1 | 379 |\n",
       "\n"
      ],
      "text/plain": [
       "         사례 발생 사례 미발생\n",
       "온베브지 1         377        \n",
       "아바스틴 1         379        "
      ]
     },
     "metadata": {},
     "output_type": "display_data"
    }
   ],
   "source": [
    "n_11 = 1\n",
    "n_12 = 377\n",
    "n_21 = 1\n",
    "n_22 = 379\n",
    "\n",
    "data = matrix(c(n_11, n_21, n_12, n_22), nrow = 2, ncol = 2)\n",
    "colnames(data) = c(\"사례 발생\", \"사례 미발생\")\n",
    "rownames(data) = c(\"온베브지\", \"아바스틴\")\n",
    "\n",
    "data"
   ]
  },
  {
   "cell_type": "markdown",
   "id": "e8ddc422-3221-49a9-8731-cab26c89ed50",
   "metadata": {},
   "source": [
    "Liklihood ratio test cell:\n",
    "\n",
    "For 95% significance, compare `m1$null.deviance` with `qchisq(0.95, 1)`"
   ]
  },
  {
   "cell_type": "code",
   "execution_count": 10,
   "id": "79d88d2e-8ce3-4a46-be07-29a4f091430a",
   "metadata": {},
   "outputs": [
    {
     "data": {
      "text/html": [
       "1.39604849393106e-05"
      ],
      "text/latex": [
       "1.39604849393106e-05"
      ],
      "text/markdown": [
       "1.39604849393106e-05"
      ],
      "text/plain": [
       "[1] 1.396048e-05"
      ]
     },
     "metadata": {},
     "output_type": "display_data"
    }
   ],
   "source": [
    "m1 = glm(data ~ c(1, 0), family = binomial)\n",
    "m1$null.deviance"
   ]
  },
  {
   "cell_type": "code",
   "execution_count": 11,
   "id": "0f78941b-9bdf-46d6-b5fa-8a0c8479809e",
   "metadata": {},
   "outputs": [
    {
     "data": {
      "text/html": [
       "3.84145882069412"
      ],
      "text/latex": [
       "3.84145882069412"
      ],
      "text/markdown": [
       "3.84145882069412"
      ],
      "text/plain": [
       "[1] 3.841459"
      ]
     },
     "metadata": {},
     "output_type": "display_data"
    }
   ],
   "source": [
    "qchisq(0.95, 1)"
   ]
  },
  {
   "cell_type": "markdown",
   "id": "93a1d357-1a3b-471d-a2ae-6aab1b03e09d",
   "metadata": {},
   "source": [
    "* If `m1$null.deviance` > `qchisq(0.95, 1)`, conclude that exposure (drug) and outcome (AE occuring) is **not** independent (reject $H_{0}$)\n",
    "* If `m1$null.deviance` < `qchisq(0.95, 1)`, conclude that exposure (drug) and outcome (AE occuring) is independent (reject $H_{0}$)\n",
    "\n",
    "Example:\n",
    "$1.396 \\times 10^{-5} \\approx 0 \\lt 3.841 \\implies$ exposure (drug) and outcome (AE occuring) is independent (i.e., no association)"
   ]
  }
 ],
 "metadata": {
  "kernelspec": {
   "display_name": "R",
   "language": "R",
   "name": "ir"
  },
  "language_info": {
   "codemirror_mode": "r",
   "file_extension": ".r",
   "mimetype": "text/x-r-source",
   "name": "R",
   "pygments_lexer": "r",
   "version": "4.1.1"
  }
 },
 "nbformat": 4,
 "nbformat_minor": 5
}
