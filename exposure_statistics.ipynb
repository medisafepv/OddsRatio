{
 "cells": [
  {
   "cell_type": "markdown",
   "id": "02fad295-3933-4d23-b85a-988b76572c39",
   "metadata": {},
   "source": [
    "## 2x2 Contingency Table\n",
    "\n",
    "Prospective Randomized study "
   ]
  },
  {
   "cell_type": "markdown",
   "id": "241d5e2e-9566-4a78-9905-1509e3b4c271",
   "metadata": {},
   "source": [
    "![table1.png](table1.png)"
   ]
  },
  {
   "cell_type": "markdown",
   "id": "a4a6c2f2-d7ec-428d-9928-7f0bc1649fc7",
   "metadata": {},
   "source": [
    "#### Sample Odds Ratio \n",
    "\n",
    "$$\\hat{\\Theta} = \\frac{n_{11}n_{22}}{n_{12}n_{21}} = \\frac{(1)(379)}{(377)(1)} = 1.00531$$"
   ]
  },
  {
   "cell_type": "markdown",
   "id": "fc35e1a1-2864-4e8a-87b5-42385e5d2074",
   "metadata": {},
   "source": [
    "##### Interpretation\n",
    "\n",
    "The estimated odds of AE occuring (사례발생) for someone taking 온베브지 is 1.00531 times more likely of AE occuring for someone taking 아바스틴. Since $\\hat{\\Theta} \\approx 1$, there is no association between exposure group (drug) vs. outcome (AE occuring)."
   ]
  },
  {
   "cell_type": "markdown",
   "id": "0f0ea4c8-d5b4-4a81-8013-8949f74ca13b",
   "metadata": {},
   "source": [
    "#### Hypothesis Testing: Likelihood Ratio Test"
   ]
  },
  {
   "cell_type": "markdown",
   "id": "f6958b17-f144-428a-907c-dc3b5626f1e6",
   "metadata": {},
   "source": [
    "If $\\hat{\\Theta} \\gg 1$, then perform hypothesis test for statistical significance. "
   ]
  },
  {
   "cell_type": "markdown",
   "id": "4038ce2a-dee3-4580-936e-af4d27474cfe",
   "metadata": {},
   "source": [
    "데이터 및 변수 입력 cell:"
   ]
  },
  {
   "cell_type": "code",
   "execution_count": 7,
   "id": "09d31638-02f3-43e0-8401-9f41bbf7036c",
   "metadata": {},
   "outputs": [
    {
     "data": {
      "text/html": [
       "<div>\n",
       "<style scoped>\n",
       "    .dataframe tbody tr th:only-of-type {\n",
       "        vertical-align: middle;\n",
       "    }\n",
       "\n",
       "    .dataframe tbody tr th {\n",
       "        vertical-align: top;\n",
       "    }\n",
       "\n",
       "    .dataframe thead th {\n",
       "        text-align: right;\n",
       "    }\n",
       "</style>\n",
       "<table border=\"1\" class=\"dataframe\">\n",
       "  <thead>\n",
       "    <tr style=\"text-align: right;\">\n",
       "      <th></th>\n",
       "      <th>사례 발생</th>\n",
       "      <th>사례 미발생</th>\n",
       "    </tr>\n",
       "  </thead>\n",
       "  <tbody>\n",
       "    <tr>\n",
       "      <th>온베브지</th>\n",
       "      <td>1</td>\n",
       "      <td>377</td>\n",
       "    </tr>\n",
       "    <tr>\n",
       "      <th>아바스틴</th>\n",
       "      <td>1</td>\n",
       "      <td>379</td>\n",
       "    </tr>\n",
       "  </tbody>\n",
       "</table>\n",
       "</div>"
      ],
      "text/plain": [
       "      사례 발생  사례 미발생\n",
       "온베브지      1     377\n",
       "아바스틴      1     379"
      ]
     },
     "execution_count": 7,
     "metadata": {},
     "output_type": "execute_result"
    }
   ],
   "source": [
    "import pandas as pd\n",
    "\n",
    "n_11 = 1\n",
    "n_12 = 377\n",
    "n_21 = 1\n",
    "n_22 = 379\n",
    "\n",
    "d = {\"사례 발생\" : [n_11, n_21], \"사례 미발생\" : [n_12, n_22]}\n",
    "data = pd.DataFrame(d, index=[\"온베브지\", \"아바스틴\"])\n",
    "\n",
    "data"
   ]
  },
  {
   "cell_type": "markdown",
   "id": "e8ddc422-3221-49a9-8731-cab26c89ed50",
   "metadata": {},
   "source": [
    "Liklihood ratio test cell:"
   ]
  },
  {
   "cell_type": "code",
   "execution_count": 8,
   "id": "79d88d2e-8ce3-4a46-be07-29a4f091430a",
   "metadata": {},
   "outputs": [
    {
     "data": {
      "text/plain": [
       "1.0"
      ]
     },
     "execution_count": 8,
     "metadata": {},
     "output_type": "execute_result"
    }
   ],
   "source": [
    "from scipy.stats import fisher_exact\n",
    "\n",
    "oddsr, p = fisher_exact(data, alternative='two-sided')\n",
    "p"
   ]
  },
  {
   "cell_type": "markdown",
   "id": "93a1d357-1a3b-471d-a2ae-6aab1b03e09d",
   "metadata": {},
   "source": [
    "Using significance level $\\alpha = 0.05$\n",
    "* If `p` < $0.05$, conclude that exposure (drug) and outcome (AE occuring) is **not** independent (reject $H_{0}$)\n",
    "* If `p` > $0.05$, conclude that exposure (drug) and outcome (AE occuring) is independent (fail to reject $H_{0}$)\n",
    "\n",
    "Example:\n",
    "$p = 1 > 0.05 \\implies$ exposure (drug) and outcome (AE occuring) is independent (i.e., no association)"
   ]
  }
 ],
 "metadata": {
  "kernelspec": {
   "display_name": "Python 3 (ipykernel)",
   "language": "python",
   "name": "python3"
  },
  "language_info": {
   "codemirror_mode": {
    "name": "ipython",
    "version": 3
   },
   "file_extension": ".py",
   "mimetype": "text/x-python",
   "name": "python",
   "nbconvert_exporter": "python",
   "pygments_lexer": "ipython3",
   "version": "3.9.12"
  }
 },
 "nbformat": 4,
 "nbformat_minor": 5
}
