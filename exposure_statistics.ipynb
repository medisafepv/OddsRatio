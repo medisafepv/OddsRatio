{
 "cells": [
  {
   "cell_type": "markdown",
   "id": "02fad295-3933-4d23-b85a-988b76572c39",
   "metadata": {
    "deletable": false,
    "editable": false,
    "tags": []
   },
   "source": [
    "## 2x2 Contingency Table\n",
    "\n",
    "Prospective Randomized study "
   ]
  },
  {
   "cell_type": "markdown",
   "id": "d49082da-fecb-437a-a67f-3e7cc3987ae9",
   "metadata": {},
   "source": [
    "\n",
    "|   | 사례 발생 | 사례 미발생   | Total |\n",
    "|---|---|-----|-------|\n",
    "| 시험약 | $$n_{11} = 235$$ | $$n_{12} = 8400$$ | $$8635$$ |\n",
    "| 대조약 | $$n_{21} = 139$$ | $$n_{22} = 9300$$ | $$9311$$ |"
   ]
  },
  {
   "cell_type": "markdown",
   "id": "a4a6c2f2-d7ec-428d-9928-7f0bc1649fc7",
   "metadata": {
    "deletable": false,
    "tags": []
   },
   "source": [
    "#### Sample Odds Ratio \n",
    "\n",
    "$$\\hat{\\Theta} = \\frac{n_{11}n_{22}}{n_{12}n_{21}} = \\frac{(235)(9300)}{(139)(8400)} = 1.87$$"
   ]
  },
  {
   "cell_type": "markdown",
   "id": "fc35e1a1-2864-4e8a-87b5-42385e5d2074",
   "metadata": {
    "deletable": false,
    "tags": []
   },
   "source": [
    "**Interpretation**\n",
    "\n",
    "The estimated odds of 사례발생 for 시험약 is 1.87 times more likely than 사례발생 for 대조약."
   ]
  },
  {
   "cell_type": "markdown",
   "id": "29bc1a7b-35b0-4fd5-b6a3-ba3f70e875e9",
   "metadata": {},
   "source": [
    "**Data**"
   ]
  },
  {
   "cell_type": "code",
   "execution_count": 1,
   "id": "3b2caeb3-9000-4425-a74a-9e28e8cdcd40",
   "metadata": {},
   "outputs": [
    {
     "name": "stdout",
     "output_type": "stream",
     "text": [
      "The estimated odds of 사례발생 for 시험약 is 1.87 times more likely than 사례발생 for 대조약\n"
     ]
    },
    {
     "data": {
      "text/html": [
       "<div>\n",
       "<style scoped>\n",
       "    .dataframe tbody tr th:only-of-type {\n",
       "        vertical-align: middle;\n",
       "    }\n",
       "\n",
       "    .dataframe tbody tr th {\n",
       "        vertical-align: top;\n",
       "    }\n",
       "\n",
       "    .dataframe thead th {\n",
       "        text-align: right;\n",
       "    }\n",
       "</style>\n",
       "<table border=\"1\" class=\"dataframe\">\n",
       "  <thead>\n",
       "    <tr style=\"text-align: right;\">\n",
       "      <th></th>\n",
       "      <th>사례 발생</th>\n",
       "      <th>사례 미발생</th>\n",
       "    </tr>\n",
       "  </thead>\n",
       "  <tbody>\n",
       "    <tr>\n",
       "      <th>시험약</th>\n",
       "      <td>235</td>\n",
       "      <td>8400</td>\n",
       "    </tr>\n",
       "    <tr>\n",
       "      <th>대조약</th>\n",
       "      <td>139</td>\n",
       "      <td>9300</td>\n",
       "    </tr>\n",
       "  </tbody>\n",
       "</table>\n",
       "</div>"
      ],
      "text/plain": [
       "     사례 발생  사례 미발생\n",
       "시험약    235    8400\n",
       "대조약    139    9300"
      ]
     },
     "execution_count": 1,
     "metadata": {},
     "output_type": "execute_result"
    }
   ],
   "source": [
    "### 아래 변수들을 편집하세요\n",
    "alpha = 0.05 \n",
    "row_1 = \"시험약\"\n",
    "row_2 = \"대조약\"\n",
    "n_11 = 235\n",
    "n_12 = 8400\n",
    "n_21 = 139\n",
    "n_22 = 9300\n",
    "### 위에 변수들을 편집하세요\n",
    "### 예:\n",
    "# alpha = 0.05 (5%)\n",
    "# row_1 = \"시험약\" \n",
    "# row_2 = \"대조약\"\n",
    "# n_11 = 235\n",
    "# n_12 = 8400\n",
    "# n_21 = 139\n",
    "# n_22 = 9300\n",
    "\n",
    "\n",
    "import utility\n",
    "data = utility.input_data_param(alpha, row_1, row_2, n_11, n_12, n_21, n_22)\n",
    "utility.compute_sample_odds_ratio(row_1, row_2, n_11, n_12, n_21, n_22)\n",
    "data"
   ]
  },
  {
   "cell_type": "markdown",
   "id": "0f0ea4c8-d5b4-4a81-8013-8949f74ca13b",
   "metadata": {
    "deletable": false,
    "tags": []
   },
   "source": [
    "#### Hypothesis Testing: Likelihood Ratio Test\n",
    "\n",
    "If $\\hat{\\Theta} \\gg 1$ or $\\hat{\\Theta} \\ll 1$ , then perform hypothesis test for statistical significance. "
   ]
  },
  {
   "cell_type": "code",
   "execution_count": 2,
   "id": "79d88d2e-8ce3-4a46-be07-29a4f091430a",
   "metadata": {
    "deletable": false,
    "tags": []
   },
   "outputs": [
    {
     "name": "stdout",
     "output_type": "stream",
     "text": [
      "Since 0.000 < 0.05, 시험약 and 이상사례 are not independent (reject the H0)\n"
     ]
    }
   ],
   "source": [
    "utility.conduct_likelihood_ratio_test(data, alpha, row_1)"
   ]
  },
  {
   "cell_type": "markdown",
   "id": "93a1d357-1a3b-471d-a2ae-6aab1b03e09d",
   "metadata": {
    "deletable": false,
    "tags": []
   },
   "source": [
    "Significance level $\\alpha = 0.05$\n",
    "* If `p` < $0.05$, conclude that drug exposure and outcome (이상사례) are **not** independent (reject $H_{0}$)\n",
    "* If `p` ≥ $0.05$, conclude that drug exposure and outcome (이상사례) are independent (fail to reject $H_{0}$)"
   ]
  },
  {
   "cell_type": "markdown",
   "id": "7ba32e0e-f876-4694-a8c0-c11f31be4bff",
   "metadata": {},
   "source": [
    "#### Confidence Interval\n",
    "\n",
    "Standard Error is from Categorical Data Theory"
   ]
  },
  {
   "cell_type": "code",
   "execution_count": 3,
   "id": "1502b32c-31aa-41ff-a339-fcd2cac87a4c",
   "metadata": {},
   "outputs": [
    {
     "name": "stdout",
     "output_type": "stream",
     "text": [
      "95% Confidence Interval for the Log Odds Ratio of 이상사례 and 시험약:\n",
      "    (1.51, 2.31)\n",
      "Since 1 is not in (1.51, 2.31), we conclude that 시험약 and 이상사례 are not independent (reject the H0)\n"
     ]
    }
   ],
   "source": [
    "utility.find_confidence_interval(alpha, row_1, row_2, n_11, n_12, n_21, n_22)"
   ]
  },
  {
   "cell_type": "markdown",
   "id": "7d3cbeb8-16ae-4fb9-8d0f-a332bb91982b",
   "metadata": {},
   "source": [
    "* If $1 \\notin (\\text{LB}, \\text{UB})$, conclude that drug exposure and outcome (이상사례) are **not** independent (reject $H_{0}$)\n",
    "* If $1 \\in (\\text{LB}, \\text{UB})$, conclude that drug exposure and outcome (이상사례) are independent (fail to reject $H_{0}$)"
   ]
  }
 ],
 "metadata": {
  "kernelspec": {
   "display_name": "Python 3 (ipykernel)",
   "language": "python",
   "name": "python3"
  },
  "language_info": {
   "codemirror_mode": {
    "name": "ipython",
    "version": 3
   },
   "file_extension": ".py",
   "mimetype": "text/x-python",
   "name": "python",
   "nbconvert_exporter": "python",
   "pygments_lexer": "ipython3",
   "version": "3.9.12"
  }
 },
 "nbformat": 4,
 "nbformat_minor": 5
}
